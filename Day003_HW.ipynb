{
 "cells": [
  {
   "cell_type": "markdown",
   "metadata": {},
   "source": [
    "# Python 下載XML檔案與解析\n",
    "\n",
    "\n",
    "* 了解 xml 檔案格式與內容\n",
    "* 能夠利用套件存取 xml 格式的檔案\n"
   ]
  },
  {
   "cell_type": "markdown",
   "metadata": {},
   "source": [
    "## 作業目標\n",
    "\n",
    "* 比較一下範例檔案中的「File I/O」與「xmltodict」讀出來的內容有什麼差異\n",
    "\n",
    "* 根據範例檔案的結果：\n",
    "    1. 請問高雄市有多少地區有溫度資料？\n",
    "    2. 請取出每一個地區所記錄的第一個時間點跟溫度\n",
    "    3. 請取出第一個地區所記錄的每一個時間點跟溫度"
   ]
  },
  {
   "cell_type": "markdown",
   "metadata": {},
   "source": [
    "### 比較一下範例檔案中的「File I/O」與「xmltodict」讀出來的內容有什麼差異\n"
   ]
  },
  {
   "cell_type": "code",
   "execution_count": null,
   "metadata": {},
   "outputs": [],
   "source": [
    "'''\n",
    "File I/O 會將HTML的內容一併打包和輸出\n",
    "而xmltodict則可將特定的內容以'字典'的方式抓出內容\n",
    "'''"
   ]
  },
  {
   "cell_type": "markdown",
   "metadata": {},
   "source": [
    "### 根據範例檔案的結果：\n",
    "\n",
    "1. 請問高雄市有多少地區有溫度資料？\n",
    "2. 請取出每一個地區所記錄的第一個時間點跟溫度\n",
    "3. 請取出第一個地區所記錄的每一個時間點跟溫度"
   ]
  },
  {
   "cell_type": "code",
   "execution_count": 21,
   "metadata": {},
   "outputs": [
    {
     "name": "stdout",
     "output_type": "stream",
     "text": [
      "高雄市有38地區有溫度資料\n"
     ]
    }
   ],
   "source": [
    "# 1. 請問高雄市有多少地區有溫度資料？\n",
    "\n",
    "import xmltodict\n",
    "\n",
    "count_number = 0\n",
    "\n",
    "with open('./Data/64_72hr_CH.xml', encoding = \"UTF-8-sig\") as fd:\n",
    "    doc = xmltodict.parse(fd.read())\n",
    "    \n",
    "sect_with_tempers = doc['cwbopendata']['dataset']['locations']['location']\n",
    "for sect_with_temper in sect_with_tempers:\n",
    "    for weatherElement in sect_with_temper['weatherElement']:\n",
    "        if weatherElement['description'] == '溫度':\n",
    "            count_number += 1\n",
    "            \n",
    "print(\"高雄市有%s地區有溫度資料\" %count_number)"
   ]
  },
  {
   "cell_type": "code",
   "execution_count": 28,
   "metadata": {},
   "outputs": [
    {
     "name": "stdout",
     "output_type": "stream",
     "text": [
      "鹽埕區 2019-06-28T12:00:00+08:00 33\n",
      "鼓山區 2019-06-28T12:00:00+08:00 33\n",
      "左營區 2019-06-28T12:00:00+08:00 33\n",
      "楠梓區 2019-06-28T12:00:00+08:00 34\n",
      "三民區 2019-06-28T12:00:00+08:00 32\n",
      "新興區 2019-06-28T12:00:00+08:00 33\n",
      "前金區 2019-06-28T12:00:00+08:00 33\n",
      "苓雅區 2019-06-28T12:00:00+08:00 33\n",
      "前鎮區 2019-06-28T12:00:00+08:00 33\n",
      "旗津區 2019-06-28T12:00:00+08:00 32\n",
      "小港區 2019-06-28T12:00:00+08:00 33\n",
      "鳳山區 2019-06-28T12:00:00+08:00 34\n",
      "林園區 2019-06-28T12:00:00+08:00 33\n",
      "大寮區 2019-06-28T12:00:00+08:00 34\n",
      "大樹區 2019-06-28T12:00:00+08:00 34\n",
      "大社區 2019-06-28T12:00:00+08:00 34\n",
      "仁武區 2019-06-28T12:00:00+08:00 33\n",
      "鳥松區 2019-06-28T12:00:00+08:00 34\n",
      "岡山區 2019-06-28T12:00:00+08:00 34\n",
      "橋頭區 2019-06-28T12:00:00+08:00 35\n",
      "燕巢區 2019-06-28T12:00:00+08:00 34\n",
      "田寮區 2019-06-28T12:00:00+08:00 34\n",
      "阿蓮區 2019-06-28T12:00:00+08:00 34\n",
      "路竹區 2019-06-28T12:00:00+08:00 33\n",
      "湖內區 2019-06-28T12:00:00+08:00 33\n",
      "茄萣區 2019-06-28T12:00:00+08:00 33\n",
      "永安區 2019-06-28T12:00:00+08:00 32\n",
      "彌陀區 2019-06-28T12:00:00+08:00 32\n",
      "梓官區 2019-06-28T12:00:00+08:00 32\n",
      "旗山區 2019-06-28T12:00:00+08:00 34\n",
      "美濃區 2019-06-28T12:00:00+08:00 34\n",
      "六龜區 2019-06-28T12:00:00+08:00 34\n",
      "甲仙區 2019-06-28T12:00:00+08:00 33\n",
      "杉林區 2019-06-28T12:00:00+08:00 36\n",
      "內門區 2019-06-28T12:00:00+08:00 34\n",
      "茂林區 2019-06-28T12:00:00+08:00 34\n",
      "桃源區 2019-06-28T12:00:00+08:00 31\n",
      "那瑪夏區 2019-06-28T12:00:00+08:00 29\n"
     ]
    }
   ],
   "source": [
    "# 2. 請取出每一個地區所記錄的第一個時間點跟溫度\n",
    "\n",
    "import xmltodict\n",
    "\n",
    "with open(\"./Data/64_72hr_CH.xml\", encoding = \"utf-8-sig\") as fd:\n",
    "    doc = xmltodict.parse(fd.read())\n",
    "    \n",
    "sect_with_tempers = doc[\"cwbopendata\"][\"dataset\"][\"locations\"][\"location\"]\n",
    "\n",
    "for sect_with_temper in sect_with_tempers:\n",
    "    for weatherElement in sect_with_temper['weatherElement']:\n",
    "        if weatherElement['description'] == '溫度':\n",
    "            print(sect_with_temper['locationName'], weatherElement['time'][0]['dataTime'], weatherElement['time'][0]['elementValue']['value'])"
   ]
  },
  {
   "cell_type": "code",
   "execution_count": 7,
   "metadata": {},
   "outputs": [
    {
     "name": "stdout",
     "output_type": "stream",
     "text": [
      "2019-06-28T12:00:00+08:00 33\n",
      "2019-06-28T15:00:00+08:00 33\n",
      "2019-06-28T18:00:00+08:00 32\n",
      "2019-06-28T21:00:00+08:00 30\n",
      "2019-06-29T00:00:00+08:00 30\n",
      "2019-06-29T03:00:00+08:00 29\n",
      "2019-06-29T06:00:00+08:00 28\n",
      "2019-06-29T09:00:00+08:00 31\n",
      "2019-06-29T12:00:00+08:00 32\n",
      "2019-06-29T15:00:00+08:00 32\n",
      "2019-06-29T18:00:00+08:00 31\n",
      "2019-06-29T21:00:00+08:00 30\n",
      "2019-06-30T00:00:00+08:00 29\n",
      "2019-06-30T03:00:00+08:00 28\n",
      "2019-06-30T06:00:00+08:00 28\n",
      "2019-06-30T09:00:00+08:00 31\n",
      "2019-06-30T12:00:00+08:00 32\n",
      "2019-06-30T15:00:00+08:00 32\n",
      "2019-06-30T18:00:00+08:00 31\n",
      "2019-06-30T21:00:00+08:00 30\n",
      "2019-07-01T00:00:00+08:00 29\n",
      "2019-07-01T03:00:00+08:00 29\n",
      "2019-07-01T06:00:00+08:00 28\n",
      "2019-07-01T09:00:00+08:00 31\n"
     ]
    }
   ],
   "source": [
    "# 3. 請取出第一個地區所記錄的每一個時間點跟溫度\n",
    "\n",
    "import xmltodict\n",
    "\n",
    "with open('./data/64_72hr_CH.xml', encoding='UTF-8') as fd:\n",
    "    doc = dict(xmltodict.parse(fd.read()))\n",
    "\n",
    "sect_with_tempers = doc[\"cwbopendata\"][\"dataset\"][\"locations\"][\"location\"]\n",
    "\n",
    "for sect_with_temper in sect_with_tempers:\n",
    "    if sect_with_temper['locationName'] == '鹽埕區':\n",
    "        for weatherElement in sect_with_temper['weatherElement']:\n",
    "            if weatherElement['description'] == '溫度':\n",
    "                for time in weatherElement['time']:\n",
    "                    print(time['dataTime'], time['elementValue']['value'])"
   ]
  },
  {
   "cell_type": "code",
   "execution_count": null,
   "metadata": {},
   "outputs": [],
   "source": []
  }
 ],
 "metadata": {
  "kernelspec": {
   "display_name": "Python 3",
   "language": "python",
   "name": "python3"
  },
  "language_info": {
   "codemirror_mode": {
    "name": "ipython",
    "version": 3
   },
   "file_extension": ".py",
   "mimetype": "text/x-python",
   "name": "python",
   "nbconvert_exporter": "python",
   "pygments_lexer": "ipython3",
   "version": "3.7.1"
  }
 },
 "nbformat": 4,
 "nbformat_minor": 2
}
